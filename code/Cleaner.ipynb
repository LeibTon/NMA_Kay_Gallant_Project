{
  "nbformat": 4,
  "nbformat_minor": 0,
  "metadata": {
    "colab": {
      "name": "Cleaner.ipynb",
      "provenance": []
    },
    "kernelspec": {
      "name": "python3",
      "display_name": "Python 3"
    }
  },
  "cells": [
  	{
      "cell_type": "markdown",
      "metadata": {
        "id": "view-in-github",
        "colab_type": "text"
      },
      "source": [
        "<a href=\"https://colab.research.google.com/drive/1KV29lvaNz9Qek_znPeHD3FPY1yl5vfh9?usp=sharing\" target=\"_parent\"><img src=\"https://colab.research.google.com/assets/colab-badge.svg\" alt=\"Open In Colab\"/></a>"
      ]
    },
    {
      "cell_type": "code",
      "metadata": {
        "id": "zQajRvlDeTNk",
        "colab": {
          "base_uri": "https://localhost:8080/",
          "height": 70
        },
        "outputId": "cb08da22-e070-4415-cb20-2e5cb2fa4210"
      },
      "source": [
        "import os\n",
        "import numpy as np\n",
        "import matplotlib.pyplot as plt\n",
        "import pandas as pd\n",
        "from collections import Counter\n",
        "from scipy import stats\n",
        "import sklearn.linear_model as skl\n",
        "from seaborn import heatmap\n",
        "from sklearn.decomposition import PCA\n",
        "import copy\n",
        "from sklearn import svm\n",
        "\n",
        "fname = \"kay_labels.npy\"\n",
        "if not os.path.exists(fname):\n",
        "  !wget -qO $fname https://osf.io/r638s/download\n",
        "fname = \"kay_images.npz\"\n",
        "if not os.path.exists(fname):\n",
        "  !wget -qO $fname https://osf.io/ymnjv/download\n",
        "\n",
        "with np.load(fname) as dobj:\n",
        "  dat = dict(**dobj)\n",
        "labels = np.load('kay_labels.npy')"
      ],
      "execution_count": null,
      "outputs": [
        {
          "output_type": "stream",
          "text": [
            "/usr/local/lib/python3.6/dist-packages/statsmodels/tools/_testing.py:19: FutureWarning: pandas.util.testing is deprecated. Use the functions in the public API at pandas.testing instead.\n",
            "  import pandas.util.testing as tm\n"
          ],
          "name": "stderr"
        }
      ]
    },
    {
      "cell_type": "code",
      "metadata": {
        "id": "HzGtScobejOm"
      },
      "source": [
        "fname = \"resnet50_features.npy\"\n",
        "if not os.path.exists(fname):\n",
        "  !wget --no-check-certificate 'https://docs.google.com/uc?export=download&id=1ALYbVzD8Irznxx8BA65DnrcM09Tg5KgJ' -O resnet50_features.npy --quiet\n",
        "fname = \"resnet50_test_features.npy\"\n",
        "if not os.path.exists(fname):\n",
        "  !wget --no-check-certificate 'https://docs.google.com/uc?export=download&id=1a1uwmP7oD7P_iHWmHRXKQq6o08b5DWpA' -O resnet50_test_features.npy --quiet\n",
        "\n",
        "fname = \"vgg16_features.npy\"\n",
        "if not os.path.exists(fname):\n",
        "  !wget --no-check-certificate 'https://docs.google.com/uc?export=download&id=1epaylkWvcX0D-escbA9Yjj6WdJ3-SDcZ' -O vgg16_features.npy --quiet\n",
        "fname = \"vgg16_test_features.npy\"\n",
        "if not os.path.exists(fname):\n",
        "  !wget --no-check-certificate 'https://docs.google.com/uc?export=download&id=1WrY7hmGtVQRPcefUwCJUf1NyosG-EfMy' -O vgg16_test_features.npy --quiet\n",
        "\n",
        "fname = \"vgg16_convfeatures.npy\"\n",
        "if not os.path.exists(fname):\n",
        "  !wget --no-check-certificate 'https://docs.google.com/uc?export=download&id=10r8jd5ql6e1HxuO-y_w7cbya7MJohtcF' -O vgg16_convfeatures.npy --quiet\n",
        "fname = \"vgg16_test_convfeatures.npy\"\n",
        "if not os.path.exists(fname):\n",
        "  !wget --no-check-certificate 'https://docs.google.com/uc?export=download&id=1_lbObrQt733e03yHAF3pADfsj6PuCLQ2' -O vgg16_test_convfeatures.npy --quiet"
      ],
      "execution_count": null,
      "outputs": []
    },
    {
      "cell_type": "code",
      "metadata": {
        "id": "rWr8z7X3e3Gz",
        "colab": {
          "base_uri": "https://localhost:8080/",
          "height": 168
        },
        "outputId": "a9a0a00a-e814-4320-8d01-ec58bab4b7e0"
      },
      "source": [
        "dataset = input('please enter the dataset you want to read : ')\n",
        "\n",
        "if dataset == 'r':\n",
        "\n",
        "  X_train = dat['responses']\n",
        "  X_test = dat['responses_test']\n",
        "  y_train = np.load('/content/resnet50_features.npy') \n",
        "  y_test = np.load('/content/resnet50_test_features.npy') \n",
        "\n",
        "  feats = 'Resnet50'\n",
        "\n",
        "elif dataset == 'v':\n",
        "\n",
        "  X_train = dat['responses']\n",
        "  X_test = dat['responses_test']\n",
        "  y_train = np.load('/content/vgg16_features.npy') \n",
        "  y_test = np.load('/content/vgg16_test_features.npy') \n",
        "\n",
        "  feats = 'VGG16'\n",
        "\n",
        "elif dataset == 'vc':\n",
        "\n",
        "  X_train = dat['responses']\n",
        "  X_test = dat['responses_test']\n",
        "  y_train = np.load('/content/vgg16_convfeatures.npy', allow_pickle=True) \n",
        "  y_test = np.load('/content/vgg16_test_convfeatures.npy', allow_pickle=True) \n",
        "\n",
        "  feats = 'VGG16 Convolution Layer'\n",
        "  \n",
        "print(feats, 'selected:')\n",
        "print('\\t X_train.shape: {} '.format(X_train.shape))\n",
        "print('\\t y_train.shape: ', y_train.shape)\n",
        "print('\\t X_test.shape:  ', X_test.shape)\n",
        "print('\\t y_test.shape:  ', y_test.shape)\n",
        "\n",
        "print('Test set statistics:')\n",
        "print('\\t Mean:\\t', np.mean(y_test))\n",
        "print('\\t Std:\\t', np.std(y_test))\n",
        "print('\\t Range:\\t', np.max(y_test)-np.min(y_test))"
      ],
      "execution_count": null,
      "outputs": [
        {
          "output_type": "stream",
          "text": [
            "VGG16 selected:\n",
            "\t X_train.shape:  (1750, 8428)\n",
            "\t y_train.shape:  (1750, 4096)\n",
            "\t X_test.shape:   (120, 8428)\n",
            "\t y_test.shape:   (120, 4096)\n",
            "Test set statistics:\n",
            "\t Mean:\t 0.18907653\n",
            "\t Std:\t 0.3137314\n",
            "\t Range:\t 3.2452157\n"
          ],
          "name": "stdout"
        }
      ]
    },
    {
      "cell_type": "code",
      "metadata": {
        "id": "XRHU43J5fq6q",
        "colab": {
          "base_uri": "https://localhost:8080/",
          "height": 101
        },
        "outputId": "0006fafb-962c-47b4-e31b-8e10880a3689"
      },
      "source": [
        "idx = np.arange(X_test.shape[1])\n",
        "\n",
        "X_new_train = np.empty(shape=(1750,0))\n",
        "X_new_test  = np.empty(shape=(120,0))\n",
        "\n",
        "new_rois = np.empty(shape=(0,))\n",
        "\n",
        "for roi in range(np.max(dat['roi'])+1):\n",
        "  if roi != 0:\n",
        "    indices = np.random.choice(idx[ dat['roi']==roi ].astype(int), 314)\n",
        "\n",
        "    X_new_train = np.hstack((X_new_train, X_train[:, indices])) \n",
        "    X_new_test = np.hstack((X_new_test, X_test[:, indices]))\n",
        "\n",
        "    new_rois = np.append(new_rois, roi * np.ones_like(indices))\n",
        "\n",
        "print(feats, 'selected:')\n",
        "print('\\t X_new_train.shape: ', X_new_train.shape)\n",
        "print('\\t y_train.shape: ', y_train.shape)\n",
        "print('\\t X_new_test.shape:  ', X_new_test.shape)\n",
        "print('\\t y_test.shape:  ', y_test.shape)"
      ],
      "execution_count": null,
      "outputs": [
        {
          "output_type": "stream",
          "text": [
            "VGG16 selected:\n",
            "\t X_new_train.shape:  (1750, 2198)\n",
            "\t y_train.shape:  (1750, 4096)\n",
            "\t X_new_test.shape:   (120, 2198)\n",
            "\t y_test.shape:   (120, 4096)\n"
          ],
          "name": "stdout"
        }
      ]
    },
    {
      "cell_type": "code",
      "metadata": {
        "id": "iAXQL8-kmg1a",
        "colab": {
          "base_uri": "https://localhost:8080/",
          "height": 655
        },
        "outputId": "0b10d65a-45f4-4e0b-ec82-3aa48dbe1c97"
      },
      "source": [
        "print('Fitting GLM to', feats, 'with Ridge...')\n",
        "\n",
        "num = 6\n",
        "\n",
        "alphas = np.logspace(0,6,num=num)\n",
        "\n",
        "mse_train_vec = np.zeros_like(alphas)\n",
        "mse_test_vec = np.zeros_like(alphas)\n",
        "\n",
        "models_vec = []\n",
        "\n",
        "progress = num\n",
        "\n",
        "for a in alphas:\n",
        "  print('\\t', progress, 'alphas remaining')\n",
        "\n",
        "  model = skl.Ridge(alpha=a)\n",
        "\n",
        "  model.fit(X_new_train, y_train)\n",
        "\n",
        "  y_hat_Train = model.predict(X_new_train)\n",
        "  mse_train = np.mean((y_train-y_hat_Train)**2)\n",
        "  mse_train_vec[a == alphas] = mse_train\n",
        "\n",
        "  y_hat_Test = model.predict(X_new_test)\n",
        "  mse_test = np.mean((y_test-y_hat_Test)**2)\n",
        "  mse_test_vec[a == alphas] = mse_test\n",
        "  \n",
        "  models_vec.append(model)\n",
        "\n",
        "  progress -= 1\n",
        "\n",
        "plt.figure()\n",
        "plt.plot(alphas, mse_train_vec, 'x-', label='Training MSE')\n",
        "plt.plot(alphas, mse_test_vec, 'x-', label='Test MSE')\n",
        "plt.xscale('log')\n",
        "plt.legend()\n",
        "# plt.yscale('log')\n",
        "\n",
        "plt.figure()\n",
        "plt.plot(alphas, np.sqrt(mse_train_vec), 'x-', label='Training MSE')\n",
        "plt.plot(alphas, np.sqrt(mse_test_vec), 'x-', label='Test MSE')\n",
        "plt.xscale('log')\n",
        "plt.legend()\n",
        "# plt.yscale('log')"
      ],
      "execution_count": null,
      "outputs": [
        {
          "output_type": "stream",
          "text": [
            "Fitting GLM to VGG16 with Ridge...\n",
            "\t 6 alphas remaining\n",
            "\t 5 alphas remaining\n",
            "\t 4 alphas remaining\n",
            "\t 3 alphas remaining\n",
            "\t 2 alphas remaining\n",
            "\t 1 alphas remaining\n"
          ],
          "name": "stdout"
        },
        {
          "output_type": "execute_result",
          "data": {
            "text/plain": [
              "<matplotlib.legend.Legend at 0x7f64bf59b668>"
            ]
          },
          "metadata": {
            "tags": []
          },
          "execution_count": 5
        },
        {
          "output_type": "display_data",
          "data": {
            "image/png": "[encoded data removed]",
            "text/plain": [
              "<Figure size 432x288 with 1 Axes>"
            ]
          },
          "metadata": {
            "tags": [],
            "needs_background": "light"
          }
        },
        {
          "output_type": "display_data",
          "data": {
            "image/png": "[encoded data removed]",
            "text/plain": [
              "<Figure size 432x288 with 1 Axes>"
            ]
          },
          "metadata": {
            "tags": [],
            "needs_background": "light"
          }
        }
      ]
    },
    {
      "cell_type": "code",
      "metadata": {
        "id": "sN_h-GKhsXsS",
        "colab": {
          "base_uri": "https://localhost:8080/",
          "height": 202
        },
        "outputId": "b859a602-86ed-49cb-be9b-20ada61fbb5d"
      },
      "source": [
        "model = models_vec[np.argmin(np.abs(mse_test_vec - mse_train_vec))]\n",
        "\n",
        "print('Model selected with alpha =', alphas[np.argmin(np.abs(mse_test_vec - mse_train_vec))])\n",
        "\n",
        "runs = 10\n",
        "\n",
        "progress = np.abs(runs)\n",
        "\n",
        "mse_vec_tot = np.zeros(shape=(runs, len(dat['roi_names'])))\n",
        "\n",
        "for k in range(runs):\n",
        "\n",
        "  print('\\t', progress, 'more runs...')\n",
        "\n",
        "  mse_vec = []\n",
        "\n",
        "  test_indices = np.random.choice(np.vstack((y_train, y_test)).shape[0], 120)\n",
        "\n",
        "  X_test_loop = np.vstack((X_new_train, X_new_test))[test_indices,:]\n",
        "  y_test_loop = np.vstack((y_train, y_test))[test_indices,:]\n",
        "\n",
        "  for idx in range(1,np.max(new_rois).astype(int)+1):\n",
        "    X_test_cancelled = copy.deepcopy(X_test_loop)\n",
        "    X_test_cancelled[:, new_rois==idx] = 0\n",
        "\n",
        "    y_hat_Test_cancelled = model.predict(X_test_cancelled)\n",
        "\n",
        "    mse = np.mean((y_test_loop-y_hat_Test_cancelled)**2)\n",
        "\n",
        "    mse_vec.append(mse)\n",
        "    # print('Test set MSE with ROI', idx, 'called', dat['roi_names'][idx], '(with', len(dat['roi'][dat['roi'] == idx]), 'voxels) cancelled out: \\t', mse)\n",
        "    mse_vec_tot[k, idx] = mse\n",
        "\n",
        "  progress -= 1"
      ],
      "execution_count": null,
      "outputs": [
        {
          "output_type": "stream",
          "text": [
            "Model selected with alpha = 1000000.0\n",
            "\t 10 more runs...\n",
            "\t 9 more runs...\n",
            "\t 8 more runs...\n",
            "\t 7 more runs...\n",
            "\t 6 more runs...\n",
            "\t 5 more runs...\n",
            "\t 4 more runs...\n",
            "\t 3 more runs...\n",
            "\t 2 more runs...\n",
            "\t 1 more runs...\n"
          ],
          "name": "stdout"
        }
      ]
    },
    {
      "cell_type": "code",
      "metadata": {
        "id": "LfXYgEyLtJ7i",
        "colab": {
          "base_uri": "https://localhost:8080/",
          "height": 281
        },
        "outputId": "4fc1b065-800a-4973-ebfe-64b11be78a4b"
      },
      "source": [
        "# plt.boxplot(mse_vec_tot[:,1:])\n",
        "plt.errorbar(range(1,8), mse_vec_tot.mean(0)[1:], yerr=mse_vec_tot.std(0)[1:]/10, fmt='x-')\n",
        "# plt.hlines(mse_vec_tot.mean(0)[0], xmin=0, xmax=7, linestyles='dashed', alpha=0.5)\n",
        "t = plt.title('MSE for different regions cancelled out')"
      ],
      "execution_count": null,
      "outputs": [
        {
          "output_type": "display_data",
          "data": {
            "image/png": "[encoded data removed]",
            "text/plain": [
              "<Figure size 432x288 with 1 Axes>"
            ]
          },
          "metadata": {
            "tags": [],
            "needs_background": "light"
          }
        }
      ]
    },
    {
      "cell_type": "code",
      "metadata": {
        "id": "sqhIEZMGt_Nv"
      },
      "source": [
        ""
      ],
      "execution_count": null,
      "outputs": []
    }
  ]
}
