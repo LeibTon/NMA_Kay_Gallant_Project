{
  "nbformat": 4,
  "nbformat_minor": 0,
  "metadata": {
    "colab": {
      "name": "Neat.ipynb",
      "provenance": []
    },
    "kernelspec": {
      "name": "python3",
      "display_name": "Python 3"
    }
  },
  "cells": [
  	{
      "cell_type": "markdown",
      "metadata": {
        "id": "view-in-github",
        "colab_type": "text"
      },
      "source": [
        "<a href=\"https://colab.research.google.com/drive/1Fsi6iQgLdA-Issa2wBq7ksHmRfo8V5S0?usp=sharing\" target=\"_parent\"><img src=\"https://colab.research.google.com/assets/colab-badge.svg\" alt=\"Open In Colab\"/></a>"
      ]
    },
    {
      "cell_type": "markdown",
      "metadata": {
        "id": "I5gVv7tpbhLm"
      },
      "source": [
        "# Setup\n",
        "\n",
        "Link to the original dataset Colab: https://colab.research.google.com/github/NeuromatchAcademy/course-content/blob/master/projects/load_kay_images.ipynb#scrollTo=RTYcrxVJ7mqV"
      ]
    },
    {
      "cell_type": "code",
      "metadata": {
        "id": "iu_2XzOlbZM2"
      },
      "source": [
        "import os\n",
        "import numpy as np\n",
        "import matplotlib.pyplot as plt\n",
        "import pandas as pd\n",
        "from collections import Counter\n",
        "from scipy import stats\n",
        "import sklearn.linear_model as skl\n",
        "from seaborn import heatmap\n",
        "from sklearn.decomposition import PCA\n",
        "import copy"
      ],
      "execution_count": null,
      "outputs": []
    },
    {
      "cell_type": "code",
      "metadata": {
        "id": "grK2OOpQcJP1"
      },
      "source": [
        "fname = \"kay_labels.npy\"\n",
        "if not os.path.exists(fname):\n",
        "  !wget -qO $fname https://osf.io/r638s/download\n",
        "fname = \"kay_images.npz\"\n",
        "if not os.path.exists(fname):\n",
        "  !wget -qO $fname https://osf.io/ymnjv/download\n",
        "\n",
        "with np.load(fname) as dobj:\n",
        "  dat = dict(**dobj)\n",
        "labels = np.load('kay_labels.npy')"
      ],
      "execution_count": null,
      "outputs": []
    },
    {
      "cell_type": "markdown",
      "metadata": {
        "id": "PMY10EAxdoOw"
      },
      "source": [
        "Resnet50"
      ]
    },
    {
      "cell_type": "code",
      "metadata": {
        "id": "PFqhVafwcJei"
      },
      "source": [
        "fname = \"resnet50_features.npy\"\n",
        "if not os.path.exists(fname):\n",
        "  !wget --no-check-certificate 'https://docs.google.com/uc?export=download&id=1ALYbVzD8Irznxx8BA65DnrcM09Tg5KgJ' -O resnet50_features.npy --quiet\n",
        "fname = \"resnet50_test_features.npy\"\n",
        "if not os.path.exists(fname):\n",
        "  !wget --no-check-certificate 'https://docs.google.com/uc?export=download&id=1a1uwmP7oD7P_iHWmHRXKQq6o08b5DWpA' -O resnet50_test_features.npy --quiet"
      ],
      "execution_count": null,
      "outputs": []
    },
    {
      "cell_type": "markdown",
      "metadata": {
        "id": "dBY4aNECd25o"
      },
      "source": [
        "VGG16"
      ]
    },
    {
      "cell_type": "code",
      "metadata": {
        "id": "5XkNjxOvd3K-"
      },
      "source": [
        "fname = \"vgg16_features.npy\"\n",
        "if not os.path.exists(fname):\n",
        "  !wget --no-check-certificate 'https://docs.google.com/uc?export=download&id=1epaylkWvcX0D-escbA9Yjj6WdJ3-SDcZ' -O vgg16_features.npy --quiet\n",
        "fname = \"vgg16_test_features.npy\"\n",
        "if not os.path.exists(fname):\n",
        "  !wget --no-check-certificate 'https://docs.google.com/uc?export=download&id=1WrY7hmGtVQRPcefUwCJUf1NyosG-EfMy' -O vgg16_test_features.npy --quiet"
      ],
      "execution_count": null,
      "outputs": []
    },
    {
      "cell_type": "markdown",
      "metadata": {
        "id": "s-rofBeZsKZY"
      },
      "source": [
        "VGG16 Convolution Layer"
      ]
    },
    {
      "cell_type": "code",
      "metadata": {
        "id": "XdQAtiMjsKvH"
      },
      "source": [
        "fname = \"vgg16__train_convfeatures.npy\"\n",
        "if not os.path.exists(fname):\n",
        "  !wget --no-check-certificate 'https://docs.google.com/uc?export=download&id=10r8jd5ql6e1HxuO-y_w7cbya7MJohtcF' -O vgg16_train_convfeatures.npy --quiet\n",
        "fname = \"vgg16_test_convfeatures.npy\"\n",
        "if not os.path.exists(fname):\n",
        "  !wget --no-check-certificate 'https://docs.google.com/uc?export=download&id=1_lbObrQt733e03yHAF3pADfsj6PuCLQ2' -O vgg16_test_convfeatures.npy --quiet"
      ],
      "execution_count": null,
      "outputs": []
    },
    {
      "cell_type": "markdown",
      "metadata": {
        "id": "wDJNlvsZb4Lg"
      },
      "source": [
        "# VGG16 "
      ]
    },
    {
      "cell_type": "code",
      "metadata": {
        "id": "YS-H9B9NfsSJ",
        "colab": {
          "base_uri": "https://localhost:8080/",
          "height": 85
        },
        "outputId": "62d951da-1f0d-4399-d6ce-f7896f445b2c"
      },
      "source": [
        "X_train = dat['responses']\n",
        "X_test = dat['responses_test']\n",
        "# feat_train = np.load('/content/drive/My Drive/Team KayGallant/Data/vgg16_train_convfeatures.npy', allow_pickle=True) \n",
        "# feat_test = np.load('/content/drive/My Drive/Team KayGallant/Data/vgg16_test_convfeatures.npy', allow_pickle=True)\n",
        "\n",
        "# y_train = feat_train.item().get('layer{}'.format(1)).reshape(1740,-1)\n",
        "# y_test = feat_test.item().get('layer{}'.format(1)).reshape(1740,-1)\n",
        "\n",
        "y_train = np.load('/content/vgg16_features.npy') \n",
        "y_test = np.load('/content/vgg16_test_features.npy') \n",
        "\n",
        "print('X_train.shape: ', X_train.shape)\n",
        "print('y_train.shape: ', y_train.shape)\n",
        "print('X_test.shape: ', X_test.shape)\n",
        "print('y_test.shape: ', y_test.shape)"
      ],
      "execution_count": null,
      "outputs": [
        {
          "output_type": "stream",
          "text": [
            "X_train.shape:  (1750, 8428)\n",
            "y_train.shape:  (1750, 4096)\n",
            "X_test.shape:  (120, 8428)\n",
            "y_test.shape:  (120, 4096)\n"
          ],
          "name": "stdout"
        }
      ]
    },
    {
      "cell_type": "code",
      "metadata": {
        "id": "pys_Kaent12M",
        "colab": {
          "base_uri": "https://localhost:8080/",
          "height": 85
        },
        "outputId": "573b712b-7818-4b58-b3d0-7fe2f47b9fd7"
      },
      "source": [
        "print('Test set statistics:')\n",
        "print('\\t Mean:\\t', y_test.mean())\n",
        "print('\\t Std:\\t', y_test.std(0).mean())\n",
        "print('\\t Range:\\t', (np.max(y_test, axis=0)-np.min(y_test, axis=0)).mean())"
      ],
      "execution_count": null,
      "outputs": [
        {
          "output_type": "stream",
          "text": [
            "Test set statistics:\n",
            "\t Mean:\t 0.18907653\n",
            "\t Std:\t 0.22372247\n",
            "\t Range:\t 1.1027477\n"
          ],
          "name": "stdout"
        }
      ]
    },
    {
      "cell_type": "markdown",
      "metadata": {
        "id": "YrGGXpIufprQ"
      },
      "source": [
        "## Try different regularization values for Ridge ($L_2$) regularization"
      ]
    },
    {
      "cell_type": "code",
      "metadata": {
        "id": "ezCoswKPcFZ_",
        "colab": {
          "base_uri": "https://localhost:8080/",
          "height": 187
        },
        "outputId": "8c826773-0096-4647-98cd-e25ae96bcd6f"
      },
      "source": [
        "num = 10\n",
        "\n",
        "alphas = np.logspace(6,7,num=num)\n",
        "\n",
        "mse_train_vec = np.zeros_like(alphas)\n",
        "mse_test_vec = np.zeros_like(alphas)\n",
        "\n",
        "models_vec = []\n",
        "\n",
        "progress = num\n",
        "\n",
        "for a in alphas:\n",
        "  print(progress, 'alphas remaining')\n",
        "\n",
        "  model = skl.Ridge(alpha=a)\n",
        "\n",
        "  model.fit(X_train, y_train)\n",
        "\n",
        "  y_hat_Train = model.predict(X_train)\n",
        "  mse_train = np.mean((y_train-y_hat_Train)**2)\n",
        "  mse_train_vec[a == alphas] = mse_train\n",
        "\n",
        "  y_hat_Test = model.predict(X_test)\n",
        "  mse_test = np.mean((y_test-y_hat_Test)**2)\n",
        "  mse_test_vec[a == alphas] = mse_test\n",
        "  \n",
        "  models_vec.append(model)\n",
        "\n",
        "  progress -= 1"
      ],
      "execution_count": null,
      "outputs": [
        {
          "output_type": "stream",
          "text": [
            "10 alphas remaining\n",
            "9 alphas remaining\n",
            "8 alphas remaining\n",
            "7 alphas remaining\n",
            "6 alphas remaining\n",
            "5 alphas remaining\n",
            "4 alphas remaining\n",
            "3 alphas remaining\n",
            "2 alphas remaining\n",
            "1 alphas remaining\n"
          ],
          "name": "stdout"
        }
      ]
    },
    {
      "cell_type": "code",
      "metadata": {
        "id": "kxGvsDeXSl3K",
        "colab": {
          "base_uri": "https://localhost:8080/",
          "height": 538
        },
        "outputId": "730d47bd-1119-40b0-d875-92811e676bb4"
      },
      "source": [
        "plt.figure()\n",
        "plt.plot(alphas, mse_train_vec, '.-', label='Training MSE')\n",
        "plt.plot(alphas, mse_test_vec, '.-', label='Test MSE')\n",
        "plt.xscale('log')\n",
        "plt.legend()\n",
        "# plt.yscale('log')\n",
        "\n",
        "plt.figure()\n",
        "plt.plot(alphas, np.sqrt(mse_train_vec), '.-', label='Training MSE')\n",
        "plt.plot(alphas, np.sqrt(mse_test_vec), '.-', label='Test MSE')\n",
        "plt.xscale('log')\n",
        "plt.legend()\n",
        "# plt.yscale('log')"
      ],
      "execution_count": null,
      "outputs": [
        {
          "output_type": "execute_result",
          "data": {
            "text/plain": [
              "<matplotlib.legend.Legend at 0x7ff9885447b8>"
            ]
          },
          "metadata": {
            "tags": []
          },
          "execution_count": 13
        },
        {
          "output_type": "display_data",
          "data": {
            "image/png": "[encoded data removed]",
            "text/plain": [
              "<Figure size 432x288 with 1 Axes>"
            ]
          },
          "metadata": {
            "tags": [],
            "needs_background": "light"
          }
        },
        {
          "output_type": "display_data",
          "data": {
            "image/png": "[encoded data removed]",
            "text/plain": [
              "<Figure size 432x288 with 1 Axes>"
            ]
          },
          "metadata": {
            "tags": [],
            "needs_background": "light"
          }
        }
      ]
    },
    {
      "cell_type": "markdown",
      "metadata": {
        "id": "tfIySgMtA7Xn"
      },
      "source": [
        "## Try different regularization values for Lasso ($L_1$) regularization"
      ]
    },
    {
      "cell_type": "code",
      "metadata": {
        "id": "43ntOHPJuZdv",
        "colab": {
          "base_uri": "https://localhost:8080/",
          "height": 344
        },
        "outputId": "e1c40dcd-9280-45e2-ff38-07fdfcdd7ae0"
      },
      "source": [
        "num = 10\n",
        "\n",
        "alphas = np.logspace(-10,-5,num=num)\n",
        "# alphas = np.array([10**(1)])\n",
        "\n",
        "mse_vec = np.zeros_like(alphas)\n",
        "\n",
        "models_vec = np.zeros_like(alphas)\n",
        "\n",
        "progress = num\n",
        "\n",
        "for a in alphas:\n",
        "\n",
        "  print(progress, 'alphas remaining')\n",
        "\n",
        "  model = skl.Lasso(alpha=a, max_iter=50000, fit_intercept=True)\n",
        "  \n",
        "  model.fit(X_train, y_train)\n",
        "\n",
        "  y_hat_Test = model.predict(X_test)\n",
        "\n",
        "  mse = np.mean((y_test-y_hat_Test)**2)\n",
        "\n",
        "  mse_vec[a == alphas] = mse\n",
        "\n",
        "  models_vec[a == alphas] = model\n",
        "\n",
        "  progress -= 1\n",
        "\n",
        "plt.plot(alphas, mse_vec)\n",
        "plt.xscale('log')"
      ],
      "execution_count": null,
      "outputs": [
        {
          "output_type": "stream",
          "text": [
            "10 alphas remaining\n"
          ],
          "name": "stdout"
        },
        {
          "output_type": "stream",
          "text": [
            "/usr/local/lib/python3.6/dist-packages/sklearn/linear_model/_coordinate_descent.py:476: ConvergenceWarning: Objective did not converge. You might want to increase the number of iterations. Duality gap: 0.0, tolerance: 0.0\n",
            "  positive)\n"
          ],
          "name": "stderr"
        },
        {
          "output_type": "display_data",
          "data": {
            "image/png": "[encoded data removed]",
            "text/plain": [
              "<Figure size 432x288 with 1 Axes>"
            ]
          },
          "metadata": {
            "tags": [],
            "needs_background": "light"
          }
        }
      ]
    },
    {
      "cell_type": "markdown",
      "metadata": {
        "id": "1kwbnxaJEuyr"
      },
      "source": [
        "## Try different regularization values for both Ridge ($L_2$) and Lasso ($L_1$) regularization"
      ]
    },
    {
      "cell_type": "code",
      "metadata": {
        "id": "LUMmV4fRkijz"
      },
      "source": [
        "num = 10\n",
        "\n",
        "alphas = np.logspace(0,5,num=num)\n",
        "ratios = np.append( np.array([0]), np.logspace(-15,-10,num=num))\n",
        "\n",
        "mse_vec = np.zeros(shape=(num,num+1))\n",
        "\n",
        "progress_a = num\n",
        "progress_r = num + 1\n",
        "\n",
        "for r in ratios:\n",
        "  print(progress_r, 'ratios remaining')\n",
        "  print('Mixing ratio:', r)\n",
        "  for a in alphas:\n",
        "    print('\\t', progress_a, 'alphas remaining')\n",
        "    print('\\t Alpha:', a)\n",
        "\n",
        "    model = skl.ElasticNet(alpha=a, l1_ratio=r)\n",
        "\n",
        "    model.fit(X_train, y_train)\n",
        "\n",
        "    y_hat_Test = model.predict(X_test)\n",
        "\n",
        "    mse = np.mean((y_test-y_hat_Test)**2)\n",
        "\n",
        "    mse_vec[a == alphas, r == ratios] = mse\n",
        "\n",
        "    progress_a -= 1\n",
        "  progress_r -= 1\n",
        "\n",
        "heatmap(mse_vec)"
      ],
      "execution_count": null,
      "outputs": []
    },
    {
      "cell_type": "code",
      "metadata": {
        "id": "hQ6a7EJHXqxQ"
      },
      "source": [
        "model = skl.MultiTaskElasticNetCV()\n",
        "\n",
        "model.fit(X_train, y_train)\n",
        "\n",
        "y_hat_Test = model.predict(X_test)\n",
        "\n",
        "mse= np.mean((y_test-y_hat_Test)**2)"
      ],
      "execution_count": null,
      "outputs": []
    },
    {
      "cell_type": "markdown",
      "metadata": {
        "id": "gLOYfETr_dER"
      },
      "source": [
        "# Resnet50 features"
      ]
    },
    {
      "cell_type": "code",
      "metadata": {
        "id": "ajsyKkp5_f_z",
        "colab": {
          "base_uri": "https://localhost:8080/",
          "height": 90
        },
        "outputId": "c37f635b-bea5-4a0d-ef36-db7e4dd2c95b"
      },
      "source": [
        "X_train = dat['responses']\n",
        "X_test = dat['responses_test']\n",
        "y_train = np.load('/content/resnet50_features.npy') \n",
        "y_test = np.load('/content/resnet50_test_features.npy') \n",
        "\n",
        "print('X_train.shape: ', X_train.shape)\n",
        "print('y_train.shape: ', y_train.shape)\n",
        "print('X_test.shape: ', X_test.shape)\n",
        "print('y_test.shape: ', y_test.shape)"
      ],
      "execution_count": null,
      "outputs": [
        {
          "output_type": "stream",
          "text": [
            "X_train.shape:  (1750, 8428)\n",
            "y_train.shape:  (1750, 2048)\n",
            "X_test.shape:  (120, 8428)\n",
            "y_test.shape:  (120, 2048)\n"
          ],
          "name": "stdout"
        }
      ]
    },
    {
      "cell_type": "code",
      "metadata": {
        "id": "FSCJ9cwvuCQ-",
        "colab": {
          "base_uri": "https://localhost:8080/",
          "height": 90
        },
        "outputId": "62dfa4e9-b093-4ce5-d594-1f8221b31e8f"
      },
      "source": [
        "print('Test set statistics:')\n",
        "print('\\t Mean:\\t', y_test.mean())\n",
        "print('\\t Std:\\t', y_test.std(0).mean())\n",
        "print('\\t Range:\\t', np.max(y_test)-np.min(y_test))"
      ],
      "execution_count": null,
      "outputs": [
        {
          "output_type": "stream",
          "text": [
            "Test set statistics:\n",
            "\t Mean:\t 0.3976737\n",
            "\t Std:\t 0.2904784\n",
            "\t Range:\t 7.8412585\n"
          ],
          "name": "stdout"
        }
      ]
    },
    {
      "cell_type": "markdown",
      "metadata": {
        "id": "TY1xfEm9Bs2f"
      },
      "source": [
        "## Try different regularization values for Ridge ($L_2$) regularization"
      ]
    },
    {
      "cell_type": "code",
      "metadata": {
        "id": "zXfYXaYdBoXw",
        "colab": {
          "base_uri": "https://localhost:8080/",
          "height": 199
        },
        "outputId": "bb86315b-a590-4e94-d809-be3bf1a68bc7"
      },
      "source": [
        "num = 10\n",
        "\n",
        "alphas = np.logspace(5.5,6,num=num)\n",
        "\n",
        "mse_train_vec = np.zeros_like(alphas)\n",
        "mse_test_vec = np.zeros_like(alphas)\n",
        "\n",
        "models_vec = []\n",
        "\n",
        "progress = num\n",
        "\n",
        "for a in alphas:\n",
        "  print(progress, 'alphas remaining')\n",
        "\n",
        "  model = skl.Ridge(alpha=a)\n",
        "\n",
        "  model.fit(X_train, y_train)\n",
        "\n",
        "  y_hat_Train = model.predict(X_train)\n",
        "  mse_train = np.mean((y_train-y_hat_Train)**2)\n",
        "  mse_train_vec[a == alphas] = mse_train\n",
        "\n",
        "  y_hat_Test = model.predict(X_test)\n",
        "  mse_test = np.mean((y_test-y_hat_Test)**2)\n",
        "  mse_test_vec[a == alphas] = mse_test\n",
        "  \n",
        "  models_vec.append(model)\n",
        "\n",
        "  progress -= 1"
      ],
      "execution_count": null,
      "outputs": [
        {
          "output_type": "stream",
          "text": [
            "10 alphas remaining\n",
            "9 alphas remaining\n",
            "8 alphas remaining\n",
            "7 alphas remaining\n",
            "6 alphas remaining\n",
            "5 alphas remaining\n",
            "4 alphas remaining\n",
            "3 alphas remaining\n",
            "2 alphas remaining\n",
            "1 alphas remaining\n"
          ],
          "name": "stdout"
        }
      ]
    },
    {
      "cell_type": "code",
      "metadata": {
        "id": "10KX-VdVTZTN",
        "colab": {
          "base_uri": "https://localhost:8080/",
          "height": 539
        },
        "outputId": "c6d43419-e901-46b3-ae30-cc707cb5175d"
      },
      "source": [
        "plt.figure()\n",
        "plt.plot(alphas, mse_train_vec, label='Training MSE')\n",
        "plt.plot(alphas, mse_test_vec, label='Test MSE')\n",
        "plt.xscale('log')\n",
        "plt.legend()\n",
        "# plt.yscale('log')\n",
        "\n",
        "plt.figure()\n",
        "plt.plot(alphas, np.sqrt(mse_train_vec), label='Training MSE')\n",
        "plt.plot(alphas, np.sqrt(mse_test_vec), label='Test MSE')\n",
        "plt.xscale('log')\n",
        "plt.legend()\n",
        "# plt.yscale('log')"
      ],
      "execution_count": null,
      "outputs": [
        {
          "output_type": "execute_result",
          "data": {
            "text/plain": [
              "<matplotlib.legend.Legend at 0x7fbcecec3c50>"
            ]
          },
          "metadata": {
            "tags": []
          },
          "execution_count": 74
        },
        {
          "output_type": "display_data",
          "data": {
            "image/png": "[encoded data removed]",
            "text/plain": [
              "<Figure size 432x288 with 1 Axes>"
            ]
          },
          "metadata": {
            "tags": [],
            "needs_background": "light"
          }
        },
        {
          "output_type": "display_data",
          "data": {
            "image/png": "[encoded data removed]",
            "text/plain": [
              "<Figure size 432x288 with 1 Axes>"
            ]
          },
          "metadata": {
            "tags": [],
            "needs_background": "light"
          }
        }
      ]
    },
    {
      "cell_type": "markdown",
      "metadata": {
        "id": "eOhi7LVYT-LT"
      },
      "source": [
        "## Try different regularization values for Lasso ($L_1$) regularization"
      ]
    },
    {
      "cell_type": "code",
      "metadata": {
        "id": "D26NgsRlo5dR",
        "colab": {
          "base_uri": "https://localhost:8080/",
          "height": 287
        },
        "outputId": "94d4aadf-bac1-4d64-86e4-99057ea4c181"
      },
      "source": [
        "num = 10\n",
        "\n",
        "# alphas = np.logspace(-10,-5,num=num)\n",
        "alphas = np.array([10**(1)])\n",
        "\n",
        "mse_vec = np.zeros_like(alphas)\n",
        "\n",
        "models_vec = np.zeros_like(alphas)\n",
        "\n",
        "progress = num\n",
        "\n",
        "for a in alphas:\n",
        "\n",
        "  print(progress, 'alphas remaining')\n",
        "\n",
        "  model = skl.Lasso(alpha=a, max_iter=5000, fit_intercept=True, tol=1e-2)\n",
        "  \n",
        "  model.fit(X_train, y_train)\n",
        "\n",
        "  y_hat_Test = model.predict(X_test)\n",
        "\n",
        "  mse = np.mean((y_test-y_hat_Test)**2)\n",
        "\n",
        "  mse_vec[a == alphas] = mse\n",
        "\n",
        "  models_vec[a == alphas] = model\n",
        "\n",
        "  progress -= 1\n",
        "\n",
        "plt.plot(alphas, mse_vec)\n",
        "plt.xscale('log')"
      ],
      "execution_count": null,
      "outputs": [
        {
          "output_type": "stream",
          "text": [
            "10 alphas remaining\n"
          ],
          "name": "stdout"
        },
        {
          "output_type": "display_data",
          "data": {
            "image/png": "[encoded data removed]",
            "text/plain": [
              "<Figure size 432x288 with 1 Axes>"
            ]
          },
          "metadata": {
            "tags": [],
            "needs_background": "light"
          }
        }
      ]
    },
    {
      "cell_type": "code",
      "metadata": {
        "id": "Ixj1RhPjT6XD"
      },
      "source": [
        ""
      ],
      "execution_count": null,
      "outputs": []
    },
    {
      "cell_type": "markdown",
      "metadata": {
        "id": "4XvqD7PjfM1a"
      },
      "source": [
        "# Reduce Dimensions to prevent overfitting"
      ]
    },
    {
      "cell_type": "code",
      "metadata": {
        "id": "-wxH2GX9fQpj"
      },
      "source": [
        "pca = PCA(.95)\n",
        "\n",
        "y_tot = np.vstack((y_test, y_train))\n",
        "\n",
        "y_new = pca.fit_transform(y_tot)\n",
        "\n",
        "y_train = y_new[:1750,:]\n",
        "y_test = y_new[1750:,:]"
      ],
      "execution_count": null,
      "outputs": []
    },
    {
      "cell_type": "code",
      "metadata": {
        "id": "CrhZR2pAgTTR",
        "colab": {
          "base_uri": "https://localhost:8080/",
          "height": 90
        },
        "outputId": "d7f58d58-76fc-448b-876b-b521b09056a1"
      },
      "source": [
        "print('X_train.shape: ', X_train.shape)\n",
        "print('y_train.shape: ', y_train.shape)\n",
        "print('X_test.shape: ', X_test.shape)\n",
        "print('y_test.shape: ', y_test.shape)"
      ],
      "execution_count": null,
      "outputs": [
        {
          "output_type": "stream",
          "text": [
            "X_train.shape:  (1750, 8428)\n",
            "y_train.shape:  (1750, 448)\n",
            "X_test.shape:  (120, 8428)\n",
            "y_test.shape:  (120, 448)\n"
          ],
          "name": "stdout"
        }
      ]
    },
    {
      "cell_type": "code",
      "metadata": {
        "id": "kMcgE9kff7TL"
      },
      "source": [
        "num = 10\n",
        "\n",
        "alphas = np.logspace(-5,25,num=num)\n",
        "\n",
        "mse_train_vec = np.zeros_like(alphas)\n",
        "mse_test_vec = np.zeros_like(alphas)\n",
        "\n",
        "models_vec = np.zeros_like(alphas)\n",
        "\n",
        "progress = num\n",
        "\n",
        "for a in alphas:\n",
        "  print(progress, 'alphas remaining')\n",
        "\n",
        "  model = skl.Lasso(alpha=a, max_iter=5000, tol=1e-2)\n",
        "\n",
        "  model.fit(X_train, y_train)\n",
        "\n",
        "  y_hat_Train = model.predict(X_train)\n",
        "  mse_train = np.mean((y_train-y_hat_Train)**2)\n",
        "  mse_train_vec[a == alphas] = mse_train\n",
        "\n",
        "  y_hat_Test = model.predict(X_test)\n",
        "  mse_test = np.mean((y_test-y_hat_Test)**2)\n",
        "  mse_test_vec[a == alphas] = mse_test\n",
        "\n",
        "  models_vec[a == alphas] = model\n",
        "\n",
        "  progress -= 1"
      ],
      "execution_count": null,
      "outputs": []
    },
    {
      "cell_type": "code",
      "metadata": {
        "id": "i4Jnx16xgDGB"
      },
      "source": [
        "plt.figure()\n",
        "plt.plot(alphas, mse_train_vec, label='Training MSE')\n",
        "plt.plot(alphas, mse_test_vec, label='Test MSE')\n",
        "plt.xscale('log')\n",
        "plt.legend()\n",
        "# plt.yscale('log')\n",
        "\n",
        "plt.figure()\n",
        "plt.plot(alphas, np.sqrt(mse_train_vec), label='Training MSE')\n",
        "plt.plot(alphas, np.sqrt(mse_test_vec), label='Test MSE')\n",
        "plt.xscale('log')\n",
        "plt.legend()\n",
        "# plt.yscale('log')"
      ],
      "execution_count": null,
      "outputs": []
    },
    {
      "cell_type": "code",
      "metadata": {
        "id": "T7-aoDc0gF5u"
      },
      "source": [
        ""
      ],
      "execution_count": null,
      "outputs": []
    },
    {
      "cell_type": "markdown",
      "metadata": {
        "id": "NnYKFW4li3eD"
      },
      "source": [
        "# Running over different ROIs"
      ]
    },
    {
      "cell_type": "code",
      "metadata": {
        "id": "HG3BzIWCi58o",
        "colab": {
          "base_uri": "https://localhost:8080/",
          "height": 374
        },
        "outputId": "6b77de64-887f-480c-8f4c-261a72decf9a"
      },
      "source": [
        "model = models_vec[np.argmin(np.abs(mse_test_vec - mse_train_vec))]\n",
        "\n",
        "print('Model selected with alpha =', alphas[np.argmin(np.abs(mse_test_vec - mse_train_vec))])\n",
        "\n",
        "runs = 20\n",
        "\n",
        "progress = np.abs(runs)\n",
        "\n",
        "mse_vec_tot = np.zeros(shape=(runs, len(dat['roi_names'])))\n",
        "\n",
        "for k in range(runs):\n",
        "\n",
        "  print('\\t', progress, 'more runs...')\n",
        "\n",
        "  mse_vec = []\n",
        "\n",
        "  test_indices = np.random.choice(np.vstack((y_train, y_test)).shape[0], 120)\n",
        "\n",
        "  X_test_loop = np.vstack((X_train, X_test))[test_indices,:]\n",
        "  y_test_loop = np.vstack((y_train, y_test))[test_indices,:]\n",
        "\n",
        "  for idx in range(len(dat['roi_names'])):\n",
        "    X_test_cancelled = copy.deepcopy(X_test_loop)\n",
        "    X_test_cancelled[:, dat['roi']==idx] = 0\n",
        "\n",
        "    y_hat_Test_cancelled = model.predict(X_test_cancelled)\n",
        "\n",
        "    mse = np.mean((y_test_loop-y_hat_Test_cancelled)**2)\n",
        "\n",
        "    mse_vec.append(mse)\n",
        "    # print('Test set MSE with ROI', idx, 'called', dat['roi_names'][idx], '(with', len(dat['roi'][dat['roi'] == idx]), 'voxels) cancelled out: \\t', mse)\n",
        "    mse_vec_tot[k, idx] = mse\n",
        "\n",
        "  progress -= 1"
      ],
      "execution_count": null,
      "outputs": [
        {
          "output_type": "stream",
          "text": [
            "Model selected with alpha = 1668100.537200059\n",
            "\t 20 more runs...\n",
            "\t 19 more runs...\n",
            "\t 18 more runs...\n",
            "\t 17 more runs...\n",
            "\t 16 more runs...\n",
            "\t 15 more runs...\n",
            "\t 14 more runs...\n",
            "\t 13 more runs...\n",
            "\t 12 more runs...\n",
            "\t 11 more runs...\n",
            "\t 10 more runs...\n",
            "\t 9 more runs...\n",
            "\t 8 more runs...\n",
            "\t 7 more runs...\n",
            "\t 6 more runs...\n",
            "\t 5 more runs...\n",
            "\t 4 more runs...\n",
            "\t 3 more runs...\n",
            "\t 2 more runs...\n",
            "\t 1 more runs...\n"
          ],
          "name": "stdout"
        }
      ]
    },
    {
      "cell_type": "code",
      "metadata": {
        "id": "9f_TkfcWmWRD",
        "colab": {
          "base_uri": "https://localhost:8080/",
          "height": 281
        },
        "outputId": "fc61eba5-5fbb-4230-cbe1-d749e154c83c"
      },
      "source": [
        "plt.errorbar(range(8), mse_vec_tot.mean(0), yerr=mse_vec_tot.std(0), fmt='.-')\n",
        "plt.hlines(mse_vec_tot.mean(0)[0], xmin=0, xmax=7, linestyles='dashed', alpha=0.5)\n",
        "plt.xticks(ticks=range(8), labels=dat['roi_names'])\n",
        "t = plt.title('MSE for different regions cancelled out')"
      ],
      "execution_count": null,
      "outputs": [
        {
          "output_type": "display_data",
          "data": {
            "image/png": "[encoded data removed]",
            "text/plain": [
              "<Figure size 432x288 with 1 Axes>"
            ]
          },
          "metadata": {
            "tags": [],
            "needs_background": "light"
          }
        }
      ]
    },
    {
      "cell_type": "code",
      "metadata": {
        "id": "WpX4q4_jT8-B"
      },
      "source": [
        ""
      ],
      "execution_count": null,
      "outputs": []
    }
  ]
}
