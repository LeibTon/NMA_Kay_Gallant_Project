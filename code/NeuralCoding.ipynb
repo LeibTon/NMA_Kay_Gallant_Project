{
  "nbformat": 4,
  "nbformat_minor": 0,
  "metadata": {
    "colab": {
      "name": "NeuralCoding.ipynb",
      "provenance": [],
      "collapsed_sections": []
    },
    "kernelspec": {
      "name": "python3",
      "display_name": "Python 3"
    },
    "accelerator": "GPU"
  },
  "cells": [
  	{
      "cell_type": "markdown",
      "metadata": {
        "id": "view-in-github",
        "colab_type": "text"
      },
      "source": [
        "<a href=\"https://drive.google.com/file/d/1C4v0q4O5wolrCYFKs-qOgQM3LvQmURN1/view?usp=sharing\" target=\"_parent\"><img src=\"https://colab.research.google.com/assets/colab-badge.svg\" alt=\"Open In Colab\"/></a>"
      ]
    },
    {
      "cell_type": "code",
      "metadata": {
        "id": "DVliv-rH2BuF",
        "colab": {
          "base_uri": "https://localhost:8080/",
          "height": 34
        },
        "outputId": "09aba5b9-ac3d-4220-c8a7-b2a8d3e08b84"
      },
      "source": [
        "from google.colab import drive\n",
        "drive.mount('/content/drive')"
      ],
      "execution_count": null,
      "outputs": [
        {
          "output_type": "stream",
          "text": [
            "Drive already mounted at /content/drive; to attempt to forcibly remount, call drive.mount(\"/content/drive\", force_remount=True).\n"
          ],
          "name": "stdout"
        }
      ]
    },
    {
      "cell_type": "markdown",
      "metadata": {
        "id": "PFeSW5bclaH4"
      },
      "source": [
        "#Neural Encoding with Kay and Gallant Dataset\n"
      ]
    },
    {
      "cell_type": "code",
      "metadata": {
        "id": "-wqAwH0ls9T9",
        "colab": {
          "base_uri": "https://localhost:8080/",
          "height": 71
        },
        "outputId": "43689a99-ec99-4d6e-c097-0f2f19c69ad9"
      },
      "source": [
        "import os\n",
        "import numpy as np\n",
        "import matplotlib.pyplot as plt\n",
        "import pandas as pd\n",
        "from collections import Counter\n",
        "from scipy import stats\n",
        "import sklearn.linear_model as skl\n",
        "from seaborn import heatmap\n",
        "from sklearn.decomposition import PCA\n",
        "from sklearn.metrics import mean_squared_error\n",
        "from sklearn.preprocessing import StandardScaler, MinMaxScaler\n",
        "import copy"
      ],
      "execution_count": null,
      "outputs": [
        {
          "output_type": "stream",
          "text": [
            "/usr/local/lib/python3.6/dist-packages/statsmodels/tools/_testing.py:19: FutureWarning: pandas.util.testing is deprecated. Use the functions in the public API at pandas.testing instead.\n",
            "  import pandas.util.testing as tm\n"
          ],
          "name": "stderr"
        }
      ]
    },
    {
      "cell_type": "code",
      "metadata": {
        "id": "0LD4ksZmJk3s"
      },
      "source": [
        "def scale_range(input, min, max):\n",
        "    input += -(np.min(input))\n",
        "    input /= (1e-9 + np.max(input) / (max - min + 1e-9))\n",
        "    input += min\n",
        "    return input"
      ],
      "execution_count": null,
      "outputs": []
    },
    {
      "cell_type": "code",
      "metadata": {
        "id": "SKUc0DRECFFc"
      },
      "source": [
        "## Data Preparation\n",
        "fname = \"kay_labels.npy\"\n",
        "if not os.path.exists(fname):\n",
        "  !wget -qO $fname https://osf.io/r638s/download\n",
        "fname = \"kay_images.npz\"\n",
        "if not os.path.exists(fname):\n",
        "  !wget -qO $fname https://osf.io/ymnjv/download\n",
        "\n",
        "with np.load(fname) as dobj:\n",
        "    dat = dict(**dobj)\n",
        "labels = np.load('kay_labels.npy')"
      ],
      "execution_count": null,
      "outputs": []
    },
    {
      "cell_type": "code",
      "metadata": {
        "id": "uujc77-GCg1T"
      },
      "source": [
        "voxel_train = dat['responses']\n",
        "voxel_test = dat['responses_test']"
      ],
      "execution_count": null,
      "outputs": []
    },
    {
      "cell_type": "code",
      "metadata": {
        "id": "xhXw-khasMFO"
      },
      "source": [
        "feat_train = np.load('/content/drive/My Drive/Team KayGallant/Data/vgg16_train_convfeatures.npy', allow_pickle=True) \n",
        "feat_test = np.load('/content/drive/My Drive/Team KayGallant/Data/vgg16_test_convfeatures.npy', allow_pickle=True) "
      ],
      "execution_count": null,
      "outputs": []
    },
    {
      "cell_type": "code",
      "metadata": {
        "id": "K3cVpEKLwIw9",
        "colab": {
          "base_uri": "https://localhost:8080/",
          "height": 483
        },
        "outputId": "3b20f625-979a-4464-e5f4-e96c200ba8c5"
      },
      "source": [
        "features = feat_train.item().get('layer{}'.format(10))\n",
        "\n",
        "w=10\n",
        "h=10\n",
        "fig=plt.figure(figsize=(8, 8))\n",
        "columns = 4\n",
        "rows = 5\n",
        "for i in range(1, columns*rows +1):\n",
        "    img = features[2][i]\n",
        "    fig.add_subplot(rows, columns, i)\n",
        "    plt.imshow(img)\n",
        "plt.show()"
      ],
      "execution_count": null,
      "outputs": [
        {
          "output_type": "display_data",
          "data": {
            "image/png": "[encoded data removed]",
            "text/plain": [
              "<Figure size 576x576 with 20 Axes>"
            ]
          },
          "metadata": {
            "tags": [],
            "needs_background": "light"
          }
        }
      ]
    },
    {
      "cell_type": "code",
      "metadata": {
        "id": "L3BzApFcsxU6",
        "colab": {
          "base_uri": "https://localhost:8080/",
          "height": 547
        },
        "outputId": "ff326ac2-49b1-4d82-cd03-1070ea226dee"
      },
      "source": [
        "layers = range(10,13)\n",
        "mse_train_vec = np.zeros(len(layers))\n",
        "mse_test_vec = np.zeros(len(layers))\n",
        "score_train_vec = np.zeros(len(layers))\n",
        "score_test_vec = np.zeros(len(layers))\n",
        "\n",
        "models_vec = []\n",
        "\n",
        "for l in layers:\n",
        "  print('Layer {} Analysis'.format(l))\n",
        "  for idx in range(0,1): #range(len(dat['roi_names'])):\n",
        "    print('Roi {} Analysis'.format(dat['roi_names'][idx]))\n",
        "    X_train = feat_train.item().get('layer{}'.format(l))\n",
        "    X_test = feat_test.item().get('layer{}'.format(l))\n",
        "    X_train = X_train.reshape(len(X_train),-1)\n",
        "    X_test = X_test.reshape(len(X_test),-1)\n",
        "\n",
        "    if idx==0:\n",
        "      y_train = voxel_train[:,:]\n",
        "      y_test = voxel_test[:,:]\n",
        "    else:\n",
        "      y_train = voxel_train[:,dat['roi']==idx]\n",
        "      y_test = voxel_test[:,dat['roi']==idx]\n",
        "    print('Number of features {}'.format(X_train.shape[1]))\n",
        "    print('Number of fvoxels {}'.format(y_train.shape[1]))\n",
        "\n",
        "    model = skl.Ridge(alpha=1, max_iter=500, fit_intercept=True)\n",
        "\n",
        "    model.fit(X_train, y_train)\n",
        "\n",
        "    y_hat_Train = model.predict(X_train)\n",
        "    #mse_train = np.mean((y_train-y_hat_Train)**2)\n",
        "    mse_train_vec[l-layers[0]] = mean_squared_error(y_train,y_hat_Train)\n",
        "\n",
        "    y_hat_Test = model.predict(X_test)\n",
        "    #mse_test = np.mean(np.sum((y_test-y_hat_Test)**2, axis=1))\n",
        "    mse_test_vec[l-layers[0]] = mean_squared_error(y_test,y_hat_Test)\n",
        "\n",
        "    #score_train_vec[l-layers[0]] = model.score(X_train,y_train)\n",
        "    #score_test_vec[l-layers[0]] = model.score(X_test,y_test)\n",
        "    print(model.score(X_train,y_train))\n",
        "    print(model.score(X_test,y_test))\n",
        "    \n",
        "    #models_vec.append(model)\n",
        "\n",
        "\n",
        "#plt.figure()\n",
        "#plt.plot(layers, mse_train_vec, '.-', label='Training MSE')\n",
        "#plt.plot(layers, mse_test_vec, '.-', label='Test MSE')\n",
        "#plt.xscale('log')\n",
        "#plt.legend()\n",
        "# plt.yscale('log')\n",
        "\n",
        "#plt.figure()\n",
        "#plt.plot(layers, score_train_vec, '.-', label='Training Score')\n",
        "#plt.plot(layers, score_test_vec, '.-', label='Test Score')\n",
        "#plt.xscale('log')\n",
        "#plt.legend()\n",
        "\n",
        "#plt.figure()\n",
        "#plt.plot(alphas, np.sqrt(mse_train_vec), '.-', label='Training MSE')\n",
        "#plt.plot(alphas, np.sqrt(mse_test_vec), '.-', label='Test MSE')\n",
        "#plt.xscale('log')\n",
        "#plt.legend()\n",
        "# plt.yscale('log')"
      ],
      "execution_count": null,
      "outputs": [
        {
          "output_type": "stream",
          "text": [
            "Layer 10 Analysis\n",
            "Roi Other Analysis\n",
            "Number of features 25088\n",
            "Number of fvoxels 8428\n"
          ],
          "name": "stdout"
        },
        {
          "output_type": "stream",
          "text": [
            "/usr/local/lib/python3.6/dist-packages/sklearn/base.py:434: FutureWarning: The default value of multioutput (not exposed in score method) will change from 'variance_weighted' to 'uniform_average' in 0.23 to keep consistent with 'metrics.r2_score'. To specify the default value manually and avoid the warning, please either call 'metrics.r2_score' directly or make a custom scorer with 'metrics.make_scorer' (the built-in scorer 'r2' uses multioutput='uniform_average').\n",
            "  \"multioutput='uniform_average').\", FutureWarning)\n"
          ],
          "name": "stderr"
        },
        {
          "output_type": "stream",
          "text": [
            "0.9640903383015023\n"
          ],
          "name": "stdout"
        },
        {
          "output_type": "stream",
          "text": [
            "/usr/local/lib/python3.6/dist-packages/sklearn/base.py:434: FutureWarning: The default value of multioutput (not exposed in score method) will change from 'variance_weighted' to 'uniform_average' in 0.23 to keep consistent with 'metrics.r2_score'. To specify the default value manually and avoid the warning, please either call 'metrics.r2_score' directly or make a custom scorer with 'metrics.make_scorer' (the built-in scorer 'r2' uses multioutput='uniform_average').\n",
            "  \"multioutput='uniform_average').\", FutureWarning)\n"
          ],
          "name": "stderr"
        },
        {
          "output_type": "stream",
          "text": [
            "-2.9380344253519826\n",
            "Layer 11 Analysis\n",
            "Roi Other Analysis\n",
            "Number of features 25088\n",
            "Number of fvoxels 8428\n"
          ],
          "name": "stdout"
        },
        {
          "output_type": "stream",
          "text": [
            "/usr/local/lib/python3.6/dist-packages/sklearn/base.py:434: FutureWarning: The default value of multioutput (not exposed in score method) will change from 'variance_weighted' to 'uniform_average' in 0.23 to keep consistent with 'metrics.r2_score'. To specify the default value manually and avoid the warning, please either call 'metrics.r2_score' directly or make a custom scorer with 'metrics.make_scorer' (the built-in scorer 'r2' uses multioutput='uniform_average').\n",
            "  \"multioutput='uniform_average').\", FutureWarning)\n"
          ],
          "name": "stderr"
        },
        {
          "output_type": "stream",
          "text": [
            "0.9964500460735952\n"
          ],
          "name": "stdout"
        },
        {
          "output_type": "stream",
          "text": [
            "/usr/local/lib/python3.6/dist-packages/sklearn/base.py:434: FutureWarning: The default value of multioutput (not exposed in score method) will change from 'variance_weighted' to 'uniform_average' in 0.23 to keep consistent with 'metrics.r2_score'. To specify the default value manually and avoid the warning, please either call 'metrics.r2_score' directly or make a custom scorer with 'metrics.make_scorer' (the built-in scorer 'r2' uses multioutput='uniform_average').\n",
            "  \"multioutput='uniform_average').\", FutureWarning)\n"
          ],
          "name": "stderr"
        },
        {
          "output_type": "stream",
          "text": [
            "-3.1448615230021306\n",
            "Layer 12 Analysis\n",
            "Roi Other Analysis\n",
            "Number of features 25088\n",
            "Number of fvoxels 8428\n"
          ],
          "name": "stdout"
        },
        {
          "output_type": "stream",
          "text": [
            "/usr/local/lib/python3.6/dist-packages/sklearn/base.py:434: FutureWarning: The default value of multioutput (not exposed in score method) will change from 'variance_weighted' to 'uniform_average' in 0.23 to keep consistent with 'metrics.r2_score'. To specify the default value manually and avoid the warning, please either call 'metrics.r2_score' directly or make a custom scorer with 'metrics.make_scorer' (the built-in scorer 'r2' uses multioutput='uniform_average').\n",
            "  \"multioutput='uniform_average').\", FutureWarning)\n"
          ],
          "name": "stderr"
        },
        {
          "output_type": "stream",
          "text": [
            "0.9962099158835568\n",
            "-3.1537018382432302\n"
          ],
          "name": "stdout"
        },
        {
          "output_type": "stream",
          "text": [
            "/usr/local/lib/python3.6/dist-packages/sklearn/base.py:434: FutureWarning: The default value of multioutput (not exposed in score method) will change from 'variance_weighted' to 'uniform_average' in 0.23 to keep consistent with 'metrics.r2_score'. To specify the default value manually and avoid the warning, please either call 'metrics.r2_score' directly or make a custom scorer with 'metrics.make_scorer' (the built-in scorer 'r2' uses multioutput='uniform_average').\n",
            "  \"multioutput='uniform_average').\", FutureWarning)\n"
          ],
          "name": "stderr"
        }
      ]
    }
  ]
}
