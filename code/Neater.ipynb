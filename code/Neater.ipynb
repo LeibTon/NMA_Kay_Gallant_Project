{
  "nbformat": 4,
  "nbformat_minor": 0,
  "metadata": {
    "colab": {
      "name": "Neater.ipynb",
      "provenance": []
    },
    "kernelspec": {
      "name": "python3",
      "display_name": "Python 3"
    }
  },
  "cells": [
  	{
      "cell_type": "markdown",
      "metadata": {
        "id": "view-in-github",
        "colab_type": "text"
      },
      "source": [
        "<a href=\"https://colab.research.google.com/drive/1vaIYQ7sQWL0yQZJYsmD-fgudMtv_ZwWA?usp=sharing\" target=\"_parent\"><img src=\"https://colab.research.google.com/assets/colab-badge.svg\" alt=\"Open In Colab\"/></a>"
      ]
    },
    {
      "cell_type": "markdown",
      "metadata": {
        "id": "zt_omaF9tOP8"
      },
      "source": [
        "# 0. Setup"
      ]
    },
    {
      "cell_type": "code",
      "metadata": {
        "id": "EgmFhv87thZi",
        "colab": {
          "base_uri": "https://localhost:8080/",
          "height": 74
        },
        "outputId": "09f261ca-5cf4-4465-dd01-6f6d0f72f715"
      },
      "source": [
        "import os\n",
        "import numpy as np\n",
        "import matplotlib.pyplot as plt\n",
        "import pandas as pd\n",
        "from collections import Counter\n",
        "from scipy import stats\n",
        "import sklearn.linear_model as skl\n",
        "from seaborn import heatmap\n",
        "from sklearn.decomposition import PCA\n",
        "import copy"
      ],
      "execution_count": null,
      "outputs": [
        {
          "output_type": "stream",
          "text": [
            "/usr/local/lib/python3.6/dist-packages/statsmodels/tools/_testing.py:19: FutureWarning: pandas.util.testing is deprecated. Use the functions in the public API at pandas.testing instead.\n",
            "  import pandas.util.testing as tm\n"
          ],
          "name": "stderr"
        }
      ]
    },
    {
      "cell_type": "markdown",
      "metadata": {
        "id": "btqQD2y_tOGj"
      },
      "source": [
        "# 1. Data Importation"
      ]
    },
    {
      "cell_type": "code",
      "metadata": {
        "id": "WUt9CFSztntI"
      },
      "source": [
        "fname = \"kay_labels.npy\"\n",
        "if not os.path.exists(fname):\n",
        "  !wget -qO $fname https://osf.io/r638s/download\n",
        "fname = \"kay_images.npz\"\n",
        "if not os.path.exists(fname):\n",
        "  !wget -qO $fname https://osf.io/ymnjv/download\n",
        "\n",
        "with np.load(fname) as dobj:\n",
        "  dat = dict(**dobj)\n",
        "labels = np.load('kay_labels.npy')"
      ],
      "execution_count": null,
      "outputs": []
    },
    {
      "cell_type": "code",
      "metadata": {
        "id": "nDVIxOWXto4J"
      },
      "source": [
        "fname = \"resnet50_features.npy\"\n",
        "if not os.path.exists(fname):\n",
        "  !wget --no-check-certificate 'https://docs.google.com/uc?export=download&id=1ALYbVzD8Irznxx8BA65DnrcM09Tg5KgJ' -O resnet50_features.npy --quiet\n",
        "fname = \"resnet50_test_features.npy\"\n",
        "if not os.path.exists(fname):\n",
        "  !wget --no-check-certificate 'https://docs.google.com/uc?export=download&id=1a1uwmP7oD7P_iHWmHRXKQq6o08b5DWpA' -O resnet50_test_features.npy --quiet"
      ],
      "execution_count": null,
      "outputs": []
    },
    {
      "cell_type": "code",
      "metadata": {
        "id": "MPBbmjvBtoLJ"
      },
      "source": [
        "fname = \"vgg16_features.npy\"\n",
        "if not os.path.exists(fname):\n",
        "  !wget --no-check-certificate 'https://docs.google.com/uc?export=download&id=1epaylkWvcX0D-escbA9Yjj6WdJ3-SDcZ' -O vgg16_features.npy --quiet\n",
        "fname = \"vgg16_test_features.npy\"\n",
        "if not os.path.exists(fname):\n",
        "  !wget --no-check-certificate 'https://docs.google.com/uc?export=download&id=1WrY7hmGtVQRPcefUwCJUf1NyosG-EfMy' -O vgg16_test_features.npy --quiet"
      ],
      "execution_count": null,
      "outputs": []
    },
    {
      "cell_type": "code",
      "metadata": {
        "id": "IMBvDUfgtn-x"
      },
      "source": [
        "fname = \"vgg16_convfeatures.npy\"\n",
        "if not os.path.exists(fname):\n",
        "  !wget --no-check-certificate 'https://docs.google.com/uc?export=download&id=10r8jd5ql6e1HxuO-y_w7cbya7MJohtcF' -O vgg16_convfeatures.npy --quiet\n",
        "fname = \"vgg16_test_convfeatures.npy\"\n",
        "if not os.path.exists(fname):\n",
        "  !wget --no-check-certificate 'https://docs.google.com/uc?export=download&id=1_lbObrQt733e03yHAF3pADfsj6PuCLQ2' -O vgg16_test_convfeatures.npy --quiet"
      ],
      "execution_count": null,
      "outputs": []
    },
    {
      "cell_type": "markdown",
      "metadata": {
        "id": "jPHLazhTtOAC"
      },
      "source": [
        "# 2. Select features to regress"
      ]
    },
    {
      "cell_type": "code",
      "metadata": {
        "id": "XQ34-QKpt1TL",
        "colab": {
          "base_uri": "https://localhost:8080/",
          "height": 181
        },
        "outputId": "a38f53f5-727a-4806-f5e2-27bf0c67b261"
      },
      "source": [
        "X_train = dat['responses']\n",
        "X_test = dat['responses_test']\n",
        "y_train = np.load('/content/resnet50_features.npy') \n",
        "y_test = np.load('/content/resnet50_test_features.npy') \n",
        "\n",
        "feats = 'Resnet50'\n",
        "\n",
        "print('Resnet50 features selected:')\n",
        "print('\\t X_train.shape: ', X_train.shape)\n",
        "print('\\t y_train.shape: ', y_train.shape)\n",
        "print('\\t X_test.shape:  ', X_test.shape)\n",
        "print('\\t y_test.shape:  ', y_test.shape)\n",
        "\n",
        "print('Test set statistics:')\n",
        "print('\\t Mean:\\t', np.mean(y_test))\n",
        "print('\\t Std:\\t', np.std(y_test))\n",
        "print('\\t Range:\\t', np.max(y_test)-np.min(y_test))"
      ],
      "execution_count": null,
      "outputs": [
        {
          "output_type": "stream",
          "text": [
            "Resnet50 features selected:\n",
            "\t X_train.shape:  (1750, 8428)\n",
            "\t y_train.shape:  (1750, 2048)\n",
            "\t X_test.shape:   (120, 8428)\n",
            "\t y_test.shape:   (120, 2048)\n",
            "Test set statistics:\n",
            "\t Mean:\t 0.3976737\n",
            "\t Std:\t 0.4276611\n",
            "\t Range:\t 7.8412585\n"
          ],
          "name": "stdout"
        }
      ]
    },
    {
      "cell_type": "code",
      "metadata": {
        "id": "cGPWB7l8tv_c",
        "colab": {
          "base_uri": "https://localhost:8080/",
          "height": 181
        },
        "outputId": "478cf8bc-0cb9-4ea7-d1dd-b767e359050f"
      },
      "source": [
        "X_train = dat['responses']\n",
        "X_test = dat['responses_test']\n",
        "y_train = np.load('/content/vgg16_features.npy') \n",
        "y_test = np.load('/content/vgg16_test_features.npy') \n",
        "\n",
        "feats = 'VGG16'\n",
        "\n",
        "print('VGG16 features selected:')\n",
        "print('\\t X_train.shape: ', X_train.shape)\n",
        "print('\\t y_train.shape: ', y_train.shape)\n",
        "print('\\t X_test.shape:  ', X_test.shape)\n",
        "print('\\t y_test.shape:  ', y_test.shape)\n",
        "\n",
        "print('Test set statistics:')\n",
        "print('\\t Mean:\\t', np.mean(y_test))\n",
        "print('\\t Std:\\t', np.std(y_test))\n",
        "print('\\t Range:\\t', np.max(y_test)-np.min(y_test))"
      ],
      "execution_count": null,
      "outputs": [
        {
          "output_type": "stream",
          "text": [
            "VGG16 features selected:\n",
            "\t X_train.shape:  (1750, 8428)\n",
            "\t y_train.shape:  (1750, 4096)\n",
            "\t X_test.shape:   (120, 8428)\n",
            "\t y_test.shape:   (120, 4096)\n",
            "Test set statistics:\n",
            "\t Mean:\t 0.18907653\n",
            "\t Std:\t 0.3137314\n",
            "\t Range:\t 3.2452157\n"
          ],
          "name": "stdout"
        }
      ]
    },
    {
      "cell_type": "code",
      "metadata": {
        "id": "BhIbSsQnxvFk"
      },
      "source": [
        "X_train = dat['responses']\n",
        "X_test = dat['responses_test']\n",
        "y_train = np.load('/content/vgg16_convfeatures.npy', allow_pickle=True) \n",
        "y_test = np.load('/content/vgg16_test_convfeatures.npy', allow_pickle=True) \n",
        "\n",
        "feats = 'VGG16 Convolution Layer'\n",
        "\n",
        "print('VGG16 convolution layer features selected:')\n",
        "print('X_train.shape: ', X_train.shape)\n",
        "print('y_train.shape: ', y_train.shape)\n",
        "print('X_test.shape: ', X_test.shape)\n",
        "print('y_test.shape: ', y_test.shape)\n",
        "\n",
        "print('Test set statistics:')\n",
        "print('\\t Mean:\\t', np.mean(y_test))\n",
        "print('\\t Std:\\t', np.std(y_test))\n",
        "print('\\t Range:\\t', np.max(y_test)-np.min(y_test))"
      ],
      "execution_count": null,
      "outputs": []
    },
    {
      "cell_type": "code",
      "metadata": {
        "id": "dRYo-0_ht7FO"
      },
      "source": [
        "percent = 0.95\n",
        "\n",
        "pca = PCA(percent)\n",
        "\n",
        "y_tot = np.vstack((y_test, y_train))\n",
        "\n",
        "y_new = pca.fit_transform(y_tot)\n",
        "\n",
        "y_train = y_new[:1750,:]\n",
        "y_test = y_new[1750:,:]\n",
        "\n",
        "print('PCA is applied to preserve', percent*100, '% of variance to', feats)\n",
        "print('X_train.shape: ', X_train.shape)\n",
        "print('y_train.shape: ', y_train.shape)\n",
        "print('X_test.shape: ', X_test.shape)\n",
        "print('y_test.shape: ', y_test.shape)\n",
        "print('Test set statistics:')\n",
        "print('\\t Mean:\\t', np.mean(y_test))\n",
        "print('\\t Std:\\t', np.std(y_test))\n",
        "print('\\t Range:\\t', np.max(y_test)-np.min(y_test))"
      ],
      "execution_count": null,
      "outputs": []
    },
    {
      "cell_type": "markdown",
      "metadata": {
        "id": "mQ1vBkpXtN68"
      },
      "source": [
        "# 3. Select model"
      ]
    },
    {
      "cell_type": "markdown",
      "metadata": {
        "id": "uQoz0LxaAyXo"
      },
      "source": [
        "## 3.A Test and training tests"
      ]
    },
    {
      "cell_type": "code",
      "metadata": {
        "id": "FX5Mn9rDuAdP",
        "colab": {
          "base_uri": "https://localhost:8080/",
          "height": 739
        },
        "outputId": "7ea3115e-9959-491b-90cd-c42a49e0d6b8"
      },
      "source": [
        "print('Fitting GLM to', feats, 'with Ridge...')\n",
        "\n",
        "num = 10\n",
        "\n",
        "alphas = np.logspace(5.5,6.5,num=num)\n",
        "\n",
        "mse_train_vec = np.zeros_like(alphas)\n",
        "mse_test_vec = np.zeros_like(alphas)\n",
        "\n",
        "models_vec = []\n",
        "\n",
        "progress = num\n",
        "\n",
        "for a in alphas:\n",
        "  print('\\t', progress, 'alphas remaining')\n",
        "\n",
        "  model = skl.Ridge(alpha=a)\n",
        "\n",
        "  model.fit(X_train, y_train)\n",
        "\n",
        "  y_hat_Train = model.predict(X_train)\n",
        "  # mse_test = np.mean(np.linalg.norm(y_train-y_hat_Train, axis=1)**2)\n",
        "  mse_train = np.mean((y_train-y_hat_Train)**2)\n",
        "  mse_train_vec[a == alphas] = mse_train\n",
        "\n",
        "  y_hat_Test = model.predict(X_test)\n",
        "  # mse_test = np.mean(np.linalg.norm(y_test-y_hat_Test, axis=1)**2)\n",
        "  mse_test = np.mean((y_test-y_hat_Test)**2)\n",
        "  mse_test_vec[a == alphas] = mse_test\n",
        "  \n",
        "  models_vec.append(model)\n",
        "\n",
        "  progress -= 1\n",
        "\n",
        "plt.figure()\n",
        "plt.plot(alphas, mse_train_vec, '.-', label='Training MSE')\n",
        "plt.plot(alphas, mse_test_vec, '.-', label='Test MSE')\n",
        "plt.xscale('log')\n",
        "plt.legend()\n",
        "# plt.yscale('log')\n",
        "\n",
        "plt.figure()\n",
        "plt.plot(alphas, np.sqrt(mse_train_vec), '.-', label='Training MSE')\n",
        "plt.plot(alphas, np.sqrt(mse_test_vec), '.-', label='Test MSE')\n",
        "plt.xscale('log')\n",
        "plt.legend()\n",
        "# plt.yscale('log')"
      ],
      "execution_count": null,
      "outputs": [
        {
          "output_type": "stream",
          "text": [
            "Fitting GLM to Resnet50 with Ridge...\n",
            "\t 10 alphas remaining\n",
            "\t 9 alphas remaining\n",
            "\t 8 alphas remaining\n",
            "\t 7 alphas remaining\n",
            "\t 6 alphas remaining\n",
            "\t 5 alphas remaining\n",
            "\t 4 alphas remaining\n",
            "\t 3 alphas remaining\n",
            "\t 2 alphas remaining\n",
            "\t 1 alphas remaining\n"
          ],
          "name": "stdout"
        },
        {
          "output_type": "execute_result",
          "data": {
            "text/plain": [
              "<matplotlib.legend.Legend at 0x7fdaa138ecc0>"
            ]
          },
          "metadata": {
            "tags": []
          },
          "execution_count": 8
        },
        {
          "output_type": "display_data",
          "data": {
            "image/png": "[encoded data removed]",
            "text/plain": [
              "<Figure size 432x288 with 1 Axes>"
            ]
          },
          "metadata": {
            "tags": [],
            "needs_background": "light"
          }
        },
        {
          "output_type": "display_data",
          "data": {
            "image/png": "[encoded data removed]",
            "text/plain": [
              "<Figure size 432x288 with 1 Axes>"
            ]
          },
          "metadata": {
            "tags": [],
            "needs_background": "light"
          }
        }
      ]
    },
    {
      "cell_type": "code",
      "metadata": {
        "id": "XhKPCC4oxax2"
      },
      "source": [
        "print('Fitting GLM with Lasso regularization...')\n",
        "\n",
        "num = 10\n",
        "\n",
        "alphas = np.logspace(-15,-5,num=num)\n",
        "\n",
        "mse_train_vec = np.zeros_like(alphas)\n",
        "mse_test_vec = np.zeros_like(alphas)\n",
        "\n",
        "models_vec = []\n",
        "\n",
        "progress = num\n",
        "\n",
        "for a in alphas:\n",
        "  print('\\t', progress, 'alphas remaining')\n",
        "\n",
        "  model = skl.Lasso(alpha=a, max_iter=5000, fit_intercept=True)\n",
        "\n",
        "  model.fit(X_train, y_train)\n",
        "\n",
        "  y_hat_Train = model.predict(X_train)\n",
        "  mse_train = np.mean((y_train-y_hat_Train)**2)\n",
        "  mse_train_vec[a == alphas] = mse_train\n",
        "\n",
        "  y_hat_Test = model.predict(X_test)\n",
        "  mse_test = np.mean(np.sum((y_test-y_hat_Test)**2, axis=1))\n",
        "  mse_test_vec[a == alphas] = mse_test\n",
        "  \n",
        "  models_vec.append(model)\n",
        "\n",
        "  progress -= 1\n",
        "\n",
        "plt.figure()\n",
        "plt.plot(alphas, mse_train_vec, '.-', label='Training MSE')\n",
        "plt.plot(alphas, mse_test_vec, '.-', label='Test MSE')\n",
        "plt.xscale('log')\n",
        "plt.legend()\n",
        "# plt.yscale('log')\n",
        "\n",
        "plt.figure()\n",
        "plt.plot(alphas, np.sqrt(mse_train_vec), '.-', label='Training MSE')\n",
        "plt.plot(alphas, np.sqrt(mse_test_vec), '.-', label='Test MSE')\n",
        "plt.xscale('log')\n",
        "plt.legend()\n",
        "# plt.yscale('log')"
      ],
      "execution_count": null,
      "outputs": []
    },
    {
      "cell_type": "markdown",
      "metadata": {
        "id": "EkGmh5zNAuQ_"
      },
      "source": [
        "## 3.B Leave-one-out"
      ]
    },
    {
      "cell_type": "code",
      "metadata": {
        "id": "FNAV4EdeOWwE"
      },
      "source": [
        "print('Fitting GLM with Lasso regularization...')\n",
        "X_tot = np.vstack((X_train, X_test))\n",
        "y_tot = np.vstack((y_train, y_test))\n",
        "print('Gather all data together:')\n",
        "print('\\t X_train.shape: ', X_tot.shape)\n",
        "print('\\t y_train.shape: ', y_tot.shape)\n",
        "print('Test set statistics:')\n",
        "print('\\t Mean:\\t', np.mean(y_tot))\n",
        "print('\\t Std:\\t', np.std(y_tot))\n",
        "print('\\t Range:\\t', np.max(y_tot)-np.min(y_tot))\n",
        "\n",
        "index = np.arange(X_tot.shape[0], dtype=int)\n",
        "\n",
        "runs = 20\n",
        "\n",
        "num = 10\n",
        "\n",
        "alphas = np.logspace(-15,-5,num=num)\n",
        "\n",
        "mse_train_vec = np.zeros_like(alphas)\n",
        "mse_test_vec = np.zeros_like(alphas)\n",
        "\n",
        "models_vec = []\n",
        "\n",
        "progress = num\n",
        "\n",
        "for a in alphas:\n",
        "  print('\\t', progress, 'alphas remaining')\n",
        "\n",
        "  model = skl.Lasso(alpha=a, max_iter=5000, fit_intercept=True)\n",
        "\n",
        "  \n",
        "  \n",
        "  models_vec.append(model)\n",
        "\n",
        "  progress -= 1\n",
        "\n",
        "plt.figure()\n",
        "plt.plot(alphas, mse_train_vec, '.-', label='Training MSE')\n",
        "plt.plot(alphas, mse_test_vec, '.-', label='Test MSE')\n",
        "plt.xscale('log')\n",
        "plt.legend()\n",
        "# plt.yscale('log')\n",
        "\n",
        "plt.figure()\n",
        "plt.plot(alphas, np.sqrt(mse_train_vec), '.-', label='Training MSE')\n",
        "plt.plot(alphas, np.sqrt(mse_test_vec), '.-', label='Test MSE')\n",
        "plt.xscale('log')\n",
        "plt.legend()\n",
        "# plt.yscale('log')"
      ],
      "execution_count": null,
      "outputs": []
    },
    {
      "cell_type": "markdown",
      "metadata": {
        "id": "jmpmT7ROtNx-"
      },
      "source": [
        "# 4. Disable ROIs"
      ]
    },
    {
      "cell_type": "code",
      "metadata": {
        "id": "OZiE1tcYtgss",
        "colab": {
          "base_uri": "https://localhost:8080/",
          "height": 217
        },
        "outputId": "37ecf746-fdd0-4a85-dc15-d743c8450694"
      },
      "source": [
        "model = models_vec[np.argmin(np.abs(mse_test_vec - mse_train_vec))]\n",
        "\n",
        "print('Model selected with alpha =', alphas[np.argmin(np.abs(mse_test_vec - mse_train_vec))])\n",
        "\n",
        "runs = 10\n",
        "\n",
        "progress = np.abs(runs)\n",
        "\n",
        "mse_vec_tot = np.zeros(shape=(runs, len(dat['roi_names'])))\n",
        "\n",
        "for k in range(runs):\n",
        "\n",
        "  print('\\t', progress, 'more runs...')\n",
        "\n",
        "  mse_vec = []\n",
        "\n",
        "  test_indices = np.random.choice(np.vstack((y_train, y_test)).shape[0], 120)\n",
        "\n",
        "  X_test_loop = np.vstack((X_train, X_test))[test_indices,:]\n",
        "  y_test_loop = np.vstack((y_train, y_test))[test_indices,:]\n",
        "\n",
        "  for idx in range(len(dat['roi_names'])):\n",
        "    X_test_cancelled = copy.deepcopy(X_test_loop)\n",
        "    X_test_cancelled[:, dat['roi']==idx] = 0\n",
        "\n",
        "    y_hat_Test_cancelled = model.predict(X_test_cancelled)\n",
        "\n",
        "    mse = np.mean((y_test_loop-y_hat_Test_cancelled)**2)\n",
        "\n",
        "    mse_vec.append(mse)\n",
        "    # print('Test set MSE with ROI', idx, 'called', dat['roi_names'][idx], '(with', len(dat['roi'][dat['roi'] == idx]), 'voxels) cancelled out: \\t', mse)\n",
        "    mse_vec_tot[k, idx] = mse\n",
        "\n",
        "  progress -= 1"
      ],
      "execution_count": null,
      "outputs": [
        {
          "output_type": "stream",
          "text": [
            "Model selected with alpha = 681292.0690579609\n",
            "\t 10 more runs...\n",
            "\t 9 more runs...\n",
            "\t 8 more runs...\n",
            "\t 7 more runs...\n",
            "\t 6 more runs...\n",
            "\t 5 more runs...\n",
            "\t 4 more runs...\n",
            "\t 3 more runs...\n",
            "\t 2 more runs...\n",
            "\t 1 more runs...\n"
          ],
          "name": "stdout"
        }
      ]
    },
    {
      "cell_type": "code",
      "metadata": {
        "id": "J6E0x8fky_Yi",
        "colab": {
          "base_uri": "https://localhost:8080/",
          "height": 281
        },
        "outputId": "2d13d216-731b-4d20-f345-1a8af377ee3b"
      },
      "source": [
        "plt.errorbar(range(8), mse_vec_tot.mean(0), fmt='x-')\n",
        "# plt.errorbar(range(8), mse_vec_tot.mean(0), yerr=mse_vec_tot.std(0), fmt='x-')\n",
        "plt.hlines(mse_vec_tot.mean(0)[0], xmin=0, xmax=7, linestyles='dashed', alpha=0.5)\n",
        "t = plt.title('MSE for different regions cancelled out')"
      ],
      "execution_count": null,
      "outputs": [
        {
          "output_type": "display_data",
          "data": {
            "image/png": "[encoded data removed]",
            "text/plain": [
              "<Figure size 432x288 with 1 Axes>"
            ]
          },
          "metadata": {
            "tags": [],
            "needs_background": "light"
          }
        }
      ]
    },
    {
      "cell_type": "code",
      "metadata": {
        "id": "yYKFIRKv50_s"
      },
      "source": [
        "for roi in dat['roi']:\n",
        "\n",
        "  print(X_train[:, roi].std())"
      ],
      "execution_count": null,
      "outputs": []
    },
    {
      "cell_type": "code",
      "metadata": {
        "id": "mOM1CSno8tEK"
      },
      "source": [
        ""
      ],
      "execution_count": null,
      "outputs": []
    }
  ]
}
